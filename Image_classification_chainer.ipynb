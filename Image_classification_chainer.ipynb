{
  "nbformat": 4,
  "nbformat_minor": 0,
  "metadata": {
    "colab": {
      "name": "Image_classification_chainer.ipynb",
      "version": "0.3.2",
      "provenance": [],
      "collapsed_sections": []
    },
    "kernelspec": {
      "name": "python3",
      "display_name": "Python 3"
    },
    "accelerator": "GPU"
  },
  "cells": [
    {
      "metadata": {
        "id": "lSDsgfZUbXVx",
        "colab_type": "text"
      },
      "cell_type": "markdown",
      "source": [
        "MNIST Handwritten recognition using Chainer. "
      ]
    },
    {
      "metadata": {
        "id": "7conkbWcEeUJ",
        "colab_type": "code",
        "colab": {}
      },
      "cell_type": "code",
      "source": [
        "import math\n",
        "import numpy as np\n",
        "import chainer\n",
        "from chainer import backend\n",
        "from chainer import backends\n",
        "from chainer.backends import cuda\n",
        "from chainer import Function, gradient_check, report, training, utils, Variable\n",
        "from chainer import datasets, initializers, iterators, optimizers, serializers\n",
        "from chainer import Link, Chain, ChainList\n",
        "import chainer.functions as F\n",
        "import chainer.links as L\n",
        "from chainer.training import extensions"
      ],
      "execution_count": 0,
      "outputs": []
    },
    {
      "metadata": {
        "id": "fJdvWbSdEjKZ",
        "colab_type": "code",
        "outputId": "85638dc3-af2a-42c1-f1bc-8b5614ec0995",
        "colab": {
          "base_uri": "https://localhost:8080/",
          "height": 85
        }
      },
      "cell_type": "code",
      "source": [
        "from chainer.datasets import mnist\n",
        "\n",
        "train, test = mnist.get_mnist()"
      ],
      "execution_count": 0,
      "outputs": [
        {
          "output_type": "stream",
          "text": [
            "Downloading from http://yann.lecun.com/exdb/mnist/train-images-idx3-ubyte.gz...\n",
            "Downloading from http://yann.lecun.com/exdb/mnist/train-labels-idx1-ubyte.gz...\n",
            "Downloading from http://yann.lecun.com/exdb/mnist/t10k-images-idx3-ubyte.gz...\n",
            "Downloading from http://yann.lecun.com/exdb/mnist/t10k-labels-idx1-ubyte.gz...\n"
          ],
          "name": "stderr"
        }
      ]
    },
    {
      "metadata": {
        "id": "Oq0JhZXRFoto",
        "colab_type": "code",
        "outputId": "527446a4-4ec3-4c8a-9e36-b5c7fdd8eabc",
        "colab": {
          "base_uri": "https://localhost:8080/",
          "height": 307
        }
      },
      "cell_type": "code",
      "source": [
        "pip install cupy\n"
      ],
      "execution_count": 0,
      "outputs": [
        {
          "output_type": "stream",
          "text": [
            "Collecting cupy\n",
            "\u001b[?25l  Downloading https://files.pythonhosted.org/packages/c2/5d/cfb128bc2296ca2e9665962147ff56bd121738ab849ae4e1d5e6603ffd4c/cupy-5.3.0.tar.gz (2.5MB)\n",
            "\u001b[K    100% |████████████████████████████████| 2.5MB 9.3MB/s \n",
            "\u001b[?25hRequirement already satisfied: numpy>=1.9.0 in /usr/local/lib/python3.6/dist-packages (from cupy) (1.14.6)\n",
            "Requirement already satisfied: six>=1.9.0 in /usr/local/lib/python3.6/dist-packages (from cupy) (1.11.0)\n",
            "Requirement already satisfied: fastrlock>=0.3 in /usr/local/lib/python3.6/dist-packages (from cupy) (0.4)\n",
            "Building wheels for collected packages: cupy\n",
            "  Building wheel for cupy (setup.py) ... \u001b[?25ldone\n",
            "\u001b[?25h  Stored in directory: /root/.cache/pip/wheels/f6/75/a5/0ebbfb438ad45666653b8b527e9432b6771b8c7df1d771b6b5\n",
            "Successfully built cupy\n",
            "Installing collected packages: cupy\n",
            "Successfully installed cupy-5.3.0\n"
          ],
          "name": "stdout"
        },
        {
          "output_type": "display_data",
          "data": {
            "application/vnd.colab-display-data+json": {
              "pip_warning": {
                "packages": [
                  "cupy",
                  "cupyx"
                ]
              }
            }
          },
          "metadata": {
            "tags": []
          }
        }
      ]
    },
    {
      "metadata": {
        "id": "w8cbbG64FTvE",
        "colab_type": "code",
        "outputId": "9be2955f-6561-4d20-9424-27243a42ea84",
        "colab": {
          "base_uri": "https://localhost:8080/",
          "height": 34
        }
      },
      "cell_type": "code",
      "source": [
        "import chainer\n",
        "chainer.cuda.available"
      ],
      "execution_count": 0,
      "outputs": [
        {
          "output_type": "execute_result",
          "data": {
            "text/plain": [
              "True"
            ]
          },
          "metadata": {
            "tags": []
          },
          "execution_count": 7
        }
      ]
    },
    {
      "metadata": {
        "id": "uGY6gOuqErkr",
        "colab_type": "code",
        "colab": {}
      },
      "cell_type": "code",
      "source": [
        "batchsize = 128\n",
        "\n",
        "train_iter = iterators.SerialIterator(train, batchsize)\n",
        "test_iter = iterators.SerialIterator(test, batchsize, False, False)"
      ],
      "execution_count": 0,
      "outputs": []
    },
    {
      "metadata": {
        "id": "r4GTHUcLFCP5",
        "colab_type": "code",
        "colab": {}
      },
      "cell_type": "code",
      "source": [
        "class MLP(Chain):\n",
        "\n",
        "    def __init__(self, n_mid_units=100, n_out=10):\n",
        "        super(MLP, self).__init__()\n",
        "        with self.init_scope():\n",
        "            self.l1 = L.Linear(None, n_mid_units)\n",
        "            self.l2 = L.Linear(None, n_mid_units)\n",
        "            self.l3 = L.Linear(None, n_out)\n",
        "\n",
        "    def forward(self, x):\n",
        "        h1 = F.relu(self.l1(x))\n",
        "        h2 = F.relu(self.l2(h1))\n",
        "        return self.l3(h2)\n",
        "\n",
        "gpu_id = 0  # Set to -1 if you use CPU\n",
        "\n",
        "model = MLP()\n",
        "if gpu_id >= 0:\n",
        "    model.to_gpu(gpu_id)"
      ],
      "execution_count": 0,
      "outputs": []
    },
    {
      "metadata": {
        "id": "om7mpR5yFLVA",
        "colab_type": "code",
        "colab": {}
      },
      "cell_type": "code",
      "source": [
        "max_epoch = 10\n",
        "\n",
        "# Wrap your model by Classifier and include the process of loss calculation within your model.\n",
        "# Since we do not specify a loss function here, the default 'softmax_cross_entropy' is used.\n",
        "model = L.Classifier(model)\n",
        "\n",
        "# selection of your optimizing method\n",
        "optimizer = optimizers.MomentumSGD()\n",
        "\n",
        "# Give the optimizer a reference to the model\n",
        "optimizer.setup(model)\n",
        "\n",
        "# Get an updater that uses the Iterator and Optimizer\n",
        "updater = training.updaters.StandardUpdater(train_iter, optimizer, device=gpu_id)"
      ],
      "execution_count": 0,
      "outputs": []
    },
    {
      "metadata": {
        "id": "yxyRJ1OdZmHF",
        "colab_type": "code",
        "colab": {}
      },
      "cell_type": "code",
      "source": [
        "trainer = training.Trainer(updater, (max_epoch, 'epoch'), out='mnist_result')\n"
      ],
      "execution_count": 0,
      "outputs": []
    },
    {
      "metadata": {
        "id": "fsQdvP2VZo9x",
        "colab_type": "code",
        "colab": {}
      },
      "cell_type": "code",
      "source": [
        "from chainer.training import extensions\n",
        "\n",
        "trainer.extend(extensions.LogReport())\n",
        "trainer.extend(extensions.snapshot(filename='snapshot_epoch-{.updater.epoch}'))\n",
        "trainer.extend(extensions.snapshot_object(model.predictor, filename='model_epoch-{.updater.epoch}'))\n",
        "trainer.extend(extensions.Evaluator(test_iter, model, device=gpu_id))\n",
        "trainer.extend(extensions.PrintReport(['epoch', 'main/loss', 'main/accuracy', 'validation/main/loss', 'validation/main/accuracy', 'elapsed_time']))\n",
        "trainer.extend(extensions.PlotReport(['main/loss', 'validation/main/loss'], x_key='epoch', file_name='loss.png'))\n",
        "trainer.extend(extensions.PlotReport(['main/accuracy', 'validation/main/accuracy'], x_key='epoch', file_name='accuracy.png'))\n",
        "trainer.extend(extensions.dump_graph('main/loss'))"
      ],
      "execution_count": 0,
      "outputs": []
    },
    {
      "metadata": {
        "id": "nvXyLShbZrp6",
        "colab_type": "code",
        "outputId": "3a59696e-b746-4380-83b8-c408d0450c6a",
        "colab": {
          "base_uri": "https://localhost:8080/",
          "height": 204
        }
      },
      "cell_type": "code",
      "source": [
        "trainer.run()\n"
      ],
      "execution_count": 0,
      "outputs": [
        {
          "output_type": "stream",
          "text": [
            "epoch       main/loss   main/accuracy  validation/main/loss  validation/main/accuracy  elapsed_time\n",
            "\u001b[J1           0.531626    0.852379       0.259333              0.924644                  11.6255       \n",
            "\u001b[J2           0.236733    0.93092        0.211498              0.935028                  15.2159       \n",
            "\u001b[J3           0.18373     0.946562       0.16586               0.951741                  18.8118       \n",
            "\u001b[J4           0.147747    0.956647       0.138411              0.95985                   22.4086       \n",
            "\u001b[J5           0.123141    0.964269       0.118785              0.964992                  25.996        \n",
            "\u001b[J6           0.105225    0.969566       0.10726               0.966475                  29.5599       \n",
            "\u001b[J7           0.0911266   0.972881       0.0948755             0.970134                  33.2896       \n",
            "\u001b[J8           0.0797496   0.976679       0.0931153             0.970926                  36.9261       \n",
            "\u001b[J9           0.0698059   0.979711       0.0851843             0.973101                  40.4927       \n",
            "\u001b[J10          0.062677    0.98191        0.0804498             0.975969                  44.0689       \n"
          ],
          "name": "stdout"
        }
      ]
    },
    {
      "metadata": {
        "id": "gmnTWnXYZuls",
        "colab_type": "code",
        "outputId": "2e571d86-66af-4ea5-90fc-e8782708e213",
        "colab": {
          "base_uri": "https://localhost:8080/",
          "height": 34
        }
      },
      "cell_type": "code",
      "source": [
        "% dot -Tpng mnist_result/cg.dot -o mnist_result/cg.png\n"
      ],
      "execution_count": 0,
      "outputs": [
        {
          "output_type": "stream",
          "text": [
            "UsageError: Line magic function `%dot` not found.\n"
          ],
          "name": "stderr"
        }
      ]
    },
    {
      "metadata": {
        "id": "nBw9ZMSdaBxm",
        "colab_type": "code",
        "outputId": "322accdf-6fdd-4e95-a127-c1d1635b83f3",
        "colab": {
          "base_uri": "https://localhost:8080/",
          "height": 381
        }
      },
      "cell_type": "code",
      "source": [
        "import matplotlib.pyplot as plt\n",
        "\n",
        "model = MLP()\n",
        "serializers.load_npz('mnist_result/model_epoch-10', model)\n",
        "\n",
        "# Show the output\n",
        "x, t = test[5]\n",
        "plt.imshow(x.reshape(28, 28), cmap='gray')\n",
        "plt.show()\n",
        "print('label:', t)\n",
        "\n",
        "y = model(x[None, ...])\n",
        "\n",
        "print('predicted_label:', y.array.argmax(axis=1)[0])"
      ],
      "execution_count": 0,
      "outputs": [
        {
          "output_type": "display_data",
          "data": {
            "image/png": "[encoded data removed]",
            "text/plain": [
              "<Figure size 576x396 with 1 Axes>"
            ]
          },
          "metadata": {
            "tags": []
          }
        },
        {
          "output_type": "stream",
          "text": [
            "label: 1\n",
            "predicted_label: 1\n"
          ],
          "name": "stdout"
        }
      ]
    },
    {
      "metadata": {
        "id": "E4L6SyfSaHmo",
        "colab_type": "code",
        "outputId": "6b0092c4-207d-40af-d391-616b96a32f8d",
        "colab": {
          "base_uri": "https://localhost:8080/",
          "height": 381
        }
      },
      "cell_type": "code",
      "source": [
        "import matplotlib.pyplot as plt\n",
        "\n",
        "model = MLP()\n",
        "serializers.load_npz('mnist_result/model_epoch-10', model)\n",
        "\n",
        "# Show the output\n",
        "x, t = test[6]\n",
        "plt.imshow(x.reshape(28, 28), cmap='gray')\n",
        "plt.show()\n",
        "print('label:', t)\n",
        "\n",
        "y = model(x[None, ...])\n",
        "\n",
        "print('predicted_label:', y.array.argmax(axis=1)[0])"
      ],
      "execution_count": 0,
      "outputs": [
        {
          "output_type": "display_data",
          "data": {
            "image/png": "[encoded data removed]",
            "text/plain": [
              "<Figure size 576x396 with 1 Axes>"
            ]
          },
          "metadata": {
            "tags": []
          }
        },
        {
          "output_type": "stream",
          "text": [
            "label: 4\n",
            "predicted_label: 4\n"
          ],
          "name": "stdout"
        }
      ]
    },
    {
      "metadata": {
        "id": "86Xv6eN_aUOl",
        "colab_type": "code",
        "colab": {}
      },
      "cell_type": "code",
      "source": [
        ""
      ],
      "execution_count": 0,
      "outputs": []
    }
  ]
}